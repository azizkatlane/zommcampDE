import pyspark
from pyspark.sql import SparkSession


!wget https://d37ci6vzurychx.cloudfront.net/trip-data/yellow_tripdata_2024-10.parquet


spark = SparkSession.builder \
        .master("local[*]") \
        .appName('test') \
        .getOrCreate()


spark.version


df = spark.read.parquet('yellow_tripdata_2024-10.parquet')


df.show()


df.rdd.getNumPartitions()


df=df.coalesce(4)


df.write.parquet("data/pq/",mode='overwrite')


from pyspark.sql.functions import col, to_date


df.filter(to_date(col("tpep_pickup_datetime")) == "2024-10-15").count()
